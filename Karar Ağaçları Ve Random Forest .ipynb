{
 "cells": [
  {
   "cell_type": "markdown",
   "id": "5116337e-74b5-4c3b-a8ea-b17138d6c4f1",
   "metadata": {},
   "source": [
    "# Karar Ağacı'nın Temel Özellikleri:\n",
    "\n",
    "**Kök (Root) düğüm:** Verilerin ilk bölündüğü noktadır.\n",
    "\n",
    "**Dallanma (Branches):** Verileri belirli koşullara göre bölen yollar.\n",
    "\n",
    "**Yaprak (Leaf) düğümler:** Nihai kararların alındığı düğümlerdir."
   ]
  },
  {
   "cell_type": "markdown",
   "id": "2a259d60-1b21-4367-9d2a-f3928a4639a5",
   "metadata": {},
   "source": [
    "### Nasıl Çalışır ?  \n",
    "1)Verileri analiz eder.\n",
    "\n",
    "2)En iyi ayrımı sağlayacak özellik(future) seçilir.\n",
    "\n",
    "3)Bu özellik kullanılarak veri iki veya daha fazla parçaya bölünür.\n",
    "\n",
    "4)Her parça için bu işlem tekrarlanır.\n",
    "\n",
    "5)Belirli durma koşuluna gelene kadar dallanmaya devam eder.\n"
   ]
  },
  {
   "cell_type": "markdown",
   "id": "7752d71d-e963-48fe-b9a6-bbe9deed1718",
   "metadata": {},
   "source": [
    "### Kullanım Alanları : \n",
    "- Hastalık teşhisi\n",
    "- Müşteri segmentasyonu\n",
    "- Kredi faizi hesaplama\n",
    "- Pazarlama Stratejileri"
   ]
  },
  {
   "cell_type": "markdown",
   "id": "05275e35-422c-4c14-a971-f4f129b738d8",
   "metadata": {},
   "source": [
    "### Pythonda Örnek Kullanım\n"
   ]
  },
  {
   "cell_type": "markdown",
   "id": "884b18a9-9cdd-4d83-969d-33ef417ff740",
   "metadata": {},
   "source": [
    "from sklearn.tree import DecisionTreeClassifier\n",
    "\n",
    "\n",
    "model = DecisionTreeClassifier()\n",
    "\n",
    "model.fit(X_train, y_train)\n",
    "\n",
    "prediction = model.predict(X_test)\n"
   ]
  },
  {
   "cell_type": "markdown",
   "id": "010a6afb-e593-4073-a97b-ffd56d79bb19",
   "metadata": {},
   "source": [
    "# Random Forest Nedir ?\n",
    "\n",
    "- Random Forest,birden fazla karar ağacı oluşturarak çalışan ve bu ağaçların çoğunluk kararına göre sonuca ulaşan bir \"Topluluk\" öğrenme algoritmasıdır."
   ]
  },
  {
   "cell_type": "markdown",
   "id": "1173d464-0c56-47fa-a47c-497cd032965f",
   "metadata": {},
   "source": [
    "### Nasıl Çalışır?\n",
    "- Eğitim verisinden rastgele örnekler seçilir .\n",
    "- Her bir örnekle farklı bir karar ağacı eğitilir.\n",
    "- Her ağaç, sınıflandırma ya da regresyon tahmini yapar.\n",
    "- **Sınıflandırmada:**  Çoğunluk oyu alınır.\n",
    "- **Regresyonda:** Ağaçların tahminlerinin ortalaması alınır."
   ]
  },
  {
   "cell_type": "markdown",
   "id": "e213b847-2981-4a47-aa6a-61b352735b54",
   "metadata": {},
   "source": [
    "### Nerelerde Kullanılır?\n",
    "- Tıbbi teşhis sistemleri\n",
    "- Finansal risk analizi\n",
    "- Görüntü işleme\n",
    "- Müşteri davranış analizi\n",
    "- Özellik seçimi "
   ]
  },
  {
   "cell_type": "markdown",
   "id": "f9156e42-f958-492c-b1d6-1778bf8c2268",
   "metadata": {},
   "source": [
    "### Pythonda kullanımı:\n",
    "\n",
    "from sklearn.ensemble import RandomForestClassifier\n",
    "\n",
    "\n",
    "\n",
    "model = RandomForestClassifier(n_estimators=100, random_state=42)\n",
    "\n",
    "model.fit(X_train, y_train)\n",
    "\n",
    "predictions = model.predict(X_test)\n",
    "\n"
   ]
  },
  {
   "cell_type": "code",
   "execution_count": null,
   "id": "fd1a753d-7892-4c7e-a509-3627c1b05151",
   "metadata": {},
   "outputs": [],
   "source": []
  }
 ],
 "metadata": {
  "kernelspec": {
   "display_name": "Python 3 (ipykernel)",
   "language": "python",
   "name": "python3"
  },
  "language_info": {
   "codemirror_mode": {
    "name": "ipython",
    "version": 3
   },
   "file_extension": ".py",
   "mimetype": "text/x-python",
   "name": "python",
   "nbconvert_exporter": "python",
   "pygments_lexer": "ipython3",
   "version": "3.9.6"
  }
 },
 "nbformat": 4,
 "nbformat_minor": 5
}
