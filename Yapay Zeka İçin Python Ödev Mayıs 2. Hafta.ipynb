{
 "cells": [
  {
   "cell_type": "markdown",
   "id": "e42e1c1c-721e-4d19-9a9a-4d8831ad5322",
   "metadata": {},
   "source": [
    "#  OCR (Optical Character Recognition) Nedir?\n",
    "\n",
    "**OCR (Optik Karakter Tanıma)**, görsellerden (fotoğraf, taranmış belge, PDF) **yazılı metni dijital metne çeviren** teknolojidir. Yapay zeka projelerinde fiziksel belgelerden otomatik veri girişi sağlamak için kullanılır.\n",
    "\n",
    "##  OCR Nasıl Çalışır?\n",
    "\n",
    "1. Görüntü işleme (renk dönüşümü, gürültü giderme)\n",
    "2. Karakter segmentasyonu (harfleri ayırma)\n",
    "3. Karakter tanıma (klasik ya da derin öğrenme temelli)\n",
    "4. Metin düzenleme ve çıktı\n",
    "\n",
    "##  Projemize OCR Nasıl Entegre Edilir?\n",
    "\n",
    "Kalp krizi erken uyarı sistemimizde OCR şu şekilde kullanılabilir:\n",
    "\n",
    "- Kullanıcının yüklediği tıbbi raporlardan yaş, cinsiyet, tansiyon, kolesterol gibi veriler otomatik olarak alınır.\n",
    "- OCR bu bilgileri tanır ve modelimize otomatik aktarır.\n",
    "- Böylece manuel giriş yapılmadan risk skoru elde edilir.\n",
    "\n",
    "##  Kullanım Senaryosu\n",
    "\n",
    "- Kullanıcı bir raporun fotoğrafını yükler.\n",
    "- OCR, görseldeki metni çözer.\n",
    "- Metindeki yaş, tansiyon, kolesterol gibi değerler modele aktarılır.\n"
   ]
  },
  {
   "cell_type": "code",
   "execution_count": 3,
   "id": "7856e718-c6d6-49fb-9755-08f1a5ac0429",
   "metadata": {},
   "outputs": [
    {
     "ename": "ModuleNotFoundError",
     "evalue": "No module named 'pytesseract'",
     "output_type": "error",
     "traceback": [
      "\u001b[0;31m---------------------------------------------------------------------------\u001b[0m",
      "\u001b[0;31mModuleNotFoundError\u001b[0m                       Traceback (most recent call last)",
      "Cell \u001b[0;32mIn[3], line 2\u001b[0m\n\u001b[1;32m      1\u001b[0m \u001b[38;5;28;01mimport\u001b[39;00m\u001b[38;5;250m \u001b[39m\u001b[38;5;21;01mcv2\u001b[39;00m\n\u001b[0;32m----> 2\u001b[0m \u001b[38;5;28;01mimport\u001b[39;00m\u001b[38;5;250m \u001b[39m\u001b[38;5;21;01mpytesseract\u001b[39;00m\n\u001b[1;32m      3\u001b[0m \u001b[38;5;28;01mimport\u001b[39;00m\u001b[38;5;250m \u001b[39m\u001b[38;5;21;01mre\u001b[39;00m\n\u001b[1;32m      4\u001b[0m \u001b[38;5;28;01mfrom\u001b[39;00m\u001b[38;5;250m \u001b[39m\u001b[38;5;21;01mmatplotlib\u001b[39;00m\u001b[38;5;250m \u001b[39m\u001b[38;5;28;01mimport\u001b[39;00m pyplot \u001b[38;5;28;01mas\u001b[39;00m plt\n",
      "\u001b[0;31mModuleNotFoundError\u001b[0m: No module named 'pytesseract'"
     ]
    }
   ],
   "source": [
    "import cv2\n",
    "import pytesseract\n",
    "import re\n",
    "from matplotlib import pyplot as plt\n",
    "\n",
    "#  Gerekirse: Windows kullanıcıları için Tesseract yolu\n",
    "# pytesseract.pytesseract.tesseract_cmd = r'C:\\Program Files\\Tesseract-OCR\\tesseract.exe'\n",
    "\n",
    "#  Görsel yükleme\n",
    "image_path = \"rapor.png\"  # OCR yapılacak rapor görseli\n",
    "img = cv2.imread(image_path)\n",
    "\n",
    "# Görseli griye çevir\n",
    "gray = cv2.cvtColor(img, cv2.COLOR_BGR2GRAY)\n",
    "\n",
    "#  OCR ile metni çıkar\n",
    "text = pytesseract.image_to_string(gray, lang='tur')  # Türkçe dil desteği\n",
    "\n",
    "# OCR çıktısı\n",
    "print(\"OCR ile okunan metin:\\n\")\n",
    "print(text)\n",
    "\n",
    "#  Basit regex ile değerleri çek\n",
    "yas = re.search(r\"Yaş[:\\s]+(\\d+)\", text)\n",
    "tansiyon = re.search(r\"Tansiyon[:\\s]+(\\d+/\\d+)\", text)\n",
    "kolesterol = re.search(r\"Kolesterol[:\\s]+(\\d+)\", text)\n",
    "\n",
    "#  Değerleri göster\n",
    "print(\"\\n Tespit Edilen Veriler:\")\n",
    "if yas:\n",
    "    print(\"Yaş:\", yas.group(1))\n",
    "if tansiyon:\n",
    "    print(\"Tansiyon:\", tansiyon.group(1))\n",
    "if kolesterol:\n",
    "    print(\"Kolesterol:\", kolesterol.group(1))\n",
    "\n",
    "#  Görseli göster (isteğe bağlı)\n",
    "plt.imshow(cv2.cvtColor(img, cv2.COLOR_BGR2RGB))\n",
    "plt.axis('off')\n",
    "plt.title(\"OCR Yapılan Görsel\")\n",
    "plt.show()\n"
   ]
  },
  {
   "cell_type": "code",
   "execution_count": 2,
   "id": "3e05b5a6-c138-48ce-bd1e-0b7b4b4c85b7",
   "metadata": {},
   "outputs": [
    {
     "name": "stdout",
     "output_type": "stream",
     "text": [
      "Defaulting to user installation because normal site-packages is not writeable\n",
      "Collecting opencv-python\n",
      "  Downloading opencv_python-4.11.0.86-cp37-abi3-macosx_13_0_arm64.whl.metadata (20 kB)\n",
      "Requirement already satisfied: numpy>=1.21.0 in /Users/brs.ysn/Library/Python/3.9/lib/python/site-packages (from opencv-python) (2.0.2)\n",
      "Downloading opencv_python-4.11.0.86-cp37-abi3-macosx_13_0_arm64.whl (37.3 MB)\n",
      "\u001b[2K   \u001b[90m━━━━━━━━━━━━━━━━━━━━━━━━━━━━━━━━━━━━━━━━\u001b[0m \u001b[32m37.3/37.3 MB\u001b[0m \u001b[31m7.7 MB/s\u001b[0m eta \u001b[36m0:00:00\u001b[0ma \u001b[36m0:00:01\u001b[0m\n",
      "\u001b[?25hInstalling collected packages: opencv-python\n",
      "Successfully installed opencv-python-4.11.0.86\n",
      "\n",
      "\u001b[1m[\u001b[0m\u001b[34;49mnotice\u001b[0m\u001b[1;39;49m]\u001b[0m\u001b[39;49m A new release of pip is available: \u001b[0m\u001b[31;49m25.0.1\u001b[0m\u001b[39;49m -> \u001b[0m\u001b[32;49m25.1.1\u001b[0m\n",
      "\u001b[1m[\u001b[0m\u001b[34;49mnotice\u001b[0m\u001b[1;39;49m]\u001b[0m\u001b[39;49m To update, run: \u001b[0m\u001b[32;49m/Library/Developer/CommandLineTools/usr/bin/python3 -m pip install --upgrade pip\u001b[0m\n"
     ]
    }
   ],
   "source": [
    "!pip install opencv-python\n"
   ]
  },
  {
   "cell_type": "code",
   "execution_count": null,
   "id": "a621688a-e672-4d49-a3b2-c16033c0e880",
   "metadata": {},
   "outputs": [],
   "source": []
  }
 ],
 "metadata": {
  "kernelspec": {
   "display_name": "Python 3 (ipykernel)",
   "language": "python",
   "name": "python3"
  },
  "language_info": {
   "codemirror_mode": {
    "name": "ipython",
    "version": 3
   },
   "file_extension": ".py",
   "mimetype": "text/x-python",
   "name": "python",
   "nbconvert_exporter": "python",
   "pygments_lexer": "ipython3",
   "version": "3.9.6"
  }
 },
 "nbformat": 4,
 "nbformat_minor": 5
}
